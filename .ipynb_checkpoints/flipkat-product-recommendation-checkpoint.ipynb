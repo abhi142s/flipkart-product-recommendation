{
 "cells": [
  {
   "cell_type": "code",
   "execution_count": 2,
   "id": "efb92162-7fc8-4588-bdb2-7412ce76d059",
   "metadata": {},
   "outputs": [],
   "source": [
    "import pandas as pd"
   ]
  },
  {
   "cell_type": "code",
   "execution_count": 4,
   "id": "6d60d61c-1569-4b45-9869-5a8293829dea",
   "metadata": {},
   "outputs": [],
   "source": [
    "!pip install -q langchain\n",
    "!pip install -q langchain-community\n",
    "!pip install -q langchain-astradb\n",
    "!pip install -q pypdf"
   ]
  },
  {
   "cell_type": "code",
   "execution_count": 10,
   "id": "1669da45-cbd8-4054-9c37-01443c6945af",
   "metadata": {},
   "outputs": [
    {
     "name": "stdout",
     "output_type": "stream",
     "text": [
      "/Users/abhisrinivasan/anaconda_projects/flipkar-product-recommendation\n"
     ]
    }
   ],
   "source": [
    "import os\n",
    "print(os.getcwd())"
   ]
  },
  {
   "cell_type": "code",
   "execution_count": 14,
   "id": "43a29be5-4317-41db-b803-6cdf6f5940ca",
   "metadata": {},
   "outputs": [
    {
     "data": {
      "text/html": [
       "<div>\n",
       "<style scoped>\n",
       "    .dataframe tbody tr th:only-of-type {\n",
       "        vertical-align: middle;\n",
       "    }\n",
       "\n",
       "    .dataframe tbody tr th {\n",
       "        vertical-align: top;\n",
       "    }\n",
       "\n",
       "    .dataframe thead th {\n",
       "        text-align: right;\n",
       "    }\n",
       "</style>\n",
       "<table border=\"1\" class=\"dataframe\">\n",
       "  <thead>\n",
       "    <tr style=\"text-align: right;\">\n",
       "      <th></th>\n",
       "      <th>product_id</th>\n",
       "      <th>product_title</th>\n",
       "      <th>rating</th>\n",
       "      <th>summary</th>\n",
       "      <th>review</th>\n",
       "    </tr>\n",
       "  </thead>\n",
       "  <tbody>\n",
       "    <tr>\n",
       "      <th>0</th>\n",
       "      <td>ACCFZGAQJGYCYDCM</td>\n",
       "      <td>BoAt Rockerz 235v2 with ASAP charging Version ...</td>\n",
       "      <td>5</td>\n",
       "      <td>Terrific purchase</td>\n",
       "      <td>1-more flexible2-bass is very high3-sound clar...</td>\n",
       "    </tr>\n",
       "    <tr>\n",
       "      <th>1</th>\n",
       "      <td>ACCFZGAQJGYCYDCM</td>\n",
       "      <td>BoAt Rockerz 235v2 with ASAP charging Version ...</td>\n",
       "      <td>5</td>\n",
       "      <td>Terrific purchase</td>\n",
       "      <td>Super sound and good looking I like that prize</td>\n",
       "    </tr>\n",
       "    <tr>\n",
       "      <th>2</th>\n",
       "      <td>ACCFZGAQJGYCYDCM</td>\n",
       "      <td>BoAt Rockerz 235v2 with ASAP charging Version ...</td>\n",
       "      <td>5</td>\n",
       "      <td>Super!</td>\n",
       "      <td>Very much satisfied with the device at this pr...</td>\n",
       "    </tr>\n",
       "    <tr>\n",
       "      <th>3</th>\n",
       "      <td>ACCFZGAQJGYCYDCM</td>\n",
       "      <td>BoAt Rockerz 235v2 with ASAP charging Version ...</td>\n",
       "      <td>5</td>\n",
       "      <td>Super!</td>\n",
       "      <td>Nice headphone, bass was very good and sound i...</td>\n",
       "    </tr>\n",
       "    <tr>\n",
       "      <th>4</th>\n",
       "      <td>ACCFZGAQJGYCYDCM</td>\n",
       "      <td>BoAt Rockerz 235v2 with ASAP charging Version ...</td>\n",
       "      <td>5</td>\n",
       "      <td>Terrific purchase</td>\n",
       "      <td>Sound quality super battery backup super quali...</td>\n",
       "    </tr>\n",
       "  </tbody>\n",
       "</table>\n",
       "</div>"
      ],
      "text/plain": [
       "         product_id                                      product_title  \\\n",
       "0  ACCFZGAQJGYCYDCM  BoAt Rockerz 235v2 with ASAP charging Version ...   \n",
       "1  ACCFZGAQJGYCYDCM  BoAt Rockerz 235v2 with ASAP charging Version ...   \n",
       "2  ACCFZGAQJGYCYDCM  BoAt Rockerz 235v2 with ASAP charging Version ...   \n",
       "3  ACCFZGAQJGYCYDCM  BoAt Rockerz 235v2 with ASAP charging Version ...   \n",
       "4  ACCFZGAQJGYCYDCM  BoAt Rockerz 235v2 with ASAP charging Version ...   \n",
       "\n",
       "   rating            summary  \\\n",
       "0       5  Terrific purchase   \n",
       "1       5  Terrific purchase   \n",
       "2       5             Super!   \n",
       "3       5             Super!   \n",
       "4       5  Terrific purchase   \n",
       "\n",
       "                                              review  \n",
       "0  1-more flexible2-bass is very high3-sound clar...  \n",
       "1     Super sound and good looking I like that prize  \n",
       "2  Very much satisfied with the device at this pr...  \n",
       "3  Nice headphone, bass was very good and sound i...  \n",
       "4  Sound quality super battery backup super quali...  "
      ]
     },
     "execution_count": 14,
     "metadata": {},
     "output_type": "execute_result"
    }
   ],
   "source": [
    "data = pd.read_csv(\"/Users/abhisrinivasan/anaconda_projects/flipkart_product_review.csv\")\n",
    "data.head()"
   ]
  },
  {
   "cell_type": "code",
   "execution_count": 16,
   "id": "c65e8fdb-113e-42d1-9258-a3543b5c3d39",
   "metadata": {},
   "outputs": [
    {
     "data": {
      "text/html": [
       "<div>\n",
       "<style scoped>\n",
       "    .dataframe tbody tr th:only-of-type {\n",
       "        vertical-align: middle;\n",
       "    }\n",
       "\n",
       "    .dataframe tbody tr th {\n",
       "        vertical-align: top;\n",
       "    }\n",
       "\n",
       "    .dataframe thead th {\n",
       "        text-align: right;\n",
       "    }\n",
       "</style>\n",
       "<table border=\"1\" class=\"dataframe\">\n",
       "  <thead>\n",
       "    <tr style=\"text-align: right;\">\n",
       "      <th></th>\n",
       "      <th>product_id</th>\n",
       "      <th>product_title</th>\n",
       "      <th>rating</th>\n",
       "      <th>summary</th>\n",
       "      <th>review</th>\n",
       "    </tr>\n",
       "  </thead>\n",
       "  <tbody>\n",
       "    <tr>\n",
       "      <th>0</th>\n",
       "      <td>ACCFZGAQJGYCYDCM</td>\n",
       "      <td>BoAt Rockerz 235v2 with ASAP charging Version ...</td>\n",
       "      <td>5</td>\n",
       "      <td>Terrific purchase</td>\n",
       "      <td>1-more flexible2-bass is very high3-sound clar...</td>\n",
       "    </tr>\n",
       "    <tr>\n",
       "      <th>1</th>\n",
       "      <td>ACCFZGAQJGYCYDCM</td>\n",
       "      <td>BoAt Rockerz 235v2 with ASAP charging Version ...</td>\n",
       "      <td>5</td>\n",
       "      <td>Terrific purchase</td>\n",
       "      <td>Super sound and good looking I like that prize</td>\n",
       "    </tr>\n",
       "    <tr>\n",
       "      <th>2</th>\n",
       "      <td>ACCFZGAQJGYCYDCM</td>\n",
       "      <td>BoAt Rockerz 235v2 with ASAP charging Version ...</td>\n",
       "      <td>5</td>\n",
       "      <td>Super!</td>\n",
       "      <td>Very much satisfied with the device at this pr...</td>\n",
       "    </tr>\n",
       "    <tr>\n",
       "      <th>3</th>\n",
       "      <td>ACCFZGAQJGYCYDCM</td>\n",
       "      <td>BoAt Rockerz 235v2 with ASAP charging Version ...</td>\n",
       "      <td>5</td>\n",
       "      <td>Super!</td>\n",
       "      <td>Nice headphone, bass was very good and sound i...</td>\n",
       "    </tr>\n",
       "    <tr>\n",
       "      <th>4</th>\n",
       "      <td>ACCFZGAQJGYCYDCM</td>\n",
       "      <td>BoAt Rockerz 235v2 with ASAP charging Version ...</td>\n",
       "      <td>5</td>\n",
       "      <td>Terrific purchase</td>\n",
       "      <td>Sound quality super battery backup super quali...</td>\n",
       "    </tr>\n",
       "  </tbody>\n",
       "</table>\n",
       "</div>"
      ],
      "text/plain": [
       "         product_id                                      product_title  \\\n",
       "0  ACCFZGAQJGYCYDCM  BoAt Rockerz 235v2 with ASAP charging Version ...   \n",
       "1  ACCFZGAQJGYCYDCM  BoAt Rockerz 235v2 with ASAP charging Version ...   \n",
       "2  ACCFZGAQJGYCYDCM  BoAt Rockerz 235v2 with ASAP charging Version ...   \n",
       "3  ACCFZGAQJGYCYDCM  BoAt Rockerz 235v2 with ASAP charging Version ...   \n",
       "4  ACCFZGAQJGYCYDCM  BoAt Rockerz 235v2 with ASAP charging Version ...   \n",
       "\n",
       "   rating            summary  \\\n",
       "0       5  Terrific purchase   \n",
       "1       5  Terrific purchase   \n",
       "2       5             Super!   \n",
       "3       5             Super!   \n",
       "4       5  Terrific purchase   \n",
       "\n",
       "                                              review  \n",
       "0  1-more flexible2-bass is very high3-sound clar...  \n",
       "1     Super sound and good looking I like that prize  \n",
       "2  Very much satisfied with the device at this pr...  \n",
       "3  Nice headphone, bass was very good and sound i...  \n",
       "4  Sound quality super battery backup super quali...  "
      ]
     },
     "execution_count": 16,
     "metadata": {},
     "output_type": "execute_result"
    }
   ],
   "source": [
    "data.head()"
   ]
  },
  {
   "cell_type": "code",
   "execution_count": 18,
   "id": "3d67058b-4a39-409c-8dd6-e83069c2327e",
   "metadata": {},
   "outputs": [
    {
     "data": {
      "text/plain": [
       "Index(['product_id', 'product_title', 'rating', 'summary', 'review'], dtype='object')"
      ]
     },
     "execution_count": 18,
     "metadata": {},
     "output_type": "execute_result"
    }
   ],
   "source": [
    "data.columns\n"
   ]
  },
  {
   "cell_type": "code",
   "execution_count": 20,
   "id": "f5165686-9f85-4b84-9881-f335f5824f10",
   "metadata": {},
   "outputs": [
    {
     "data": {
      "text/html": [
       "<div>\n",
       "<style scoped>\n",
       "    .dataframe tbody tr th:only-of-type {\n",
       "        vertical-align: middle;\n",
       "    }\n",
       "\n",
       "    .dataframe tbody tr th {\n",
       "        vertical-align: top;\n",
       "    }\n",
       "\n",
       "    .dataframe thead th {\n",
       "        text-align: right;\n",
       "    }\n",
       "</style>\n",
       "<table border=\"1\" class=\"dataframe\">\n",
       "  <thead>\n",
       "    <tr style=\"text-align: right;\">\n",
       "      <th></th>\n",
       "      <th>product_title</th>\n",
       "      <th>review</th>\n",
       "    </tr>\n",
       "  </thead>\n",
       "  <tbody>\n",
       "    <tr>\n",
       "      <th>0</th>\n",
       "      <td>BoAt Rockerz 235v2 with ASAP charging Version ...</td>\n",
       "      <td>1-more flexible2-bass is very high3-sound clar...</td>\n",
       "    </tr>\n",
       "    <tr>\n",
       "      <th>1</th>\n",
       "      <td>BoAt Rockerz 235v2 with ASAP charging Version ...</td>\n",
       "      <td>Super sound and good looking I like that prize</td>\n",
       "    </tr>\n",
       "    <tr>\n",
       "      <th>2</th>\n",
       "      <td>BoAt Rockerz 235v2 with ASAP charging Version ...</td>\n",
       "      <td>Very much satisfied with the device at this pr...</td>\n",
       "    </tr>\n",
       "    <tr>\n",
       "      <th>3</th>\n",
       "      <td>BoAt Rockerz 235v2 with ASAP charging Version ...</td>\n",
       "      <td>Nice headphone, bass was very good and sound i...</td>\n",
       "    </tr>\n",
       "    <tr>\n",
       "      <th>4</th>\n",
       "      <td>BoAt Rockerz 235v2 with ASAP charging Version ...</td>\n",
       "      <td>Sound quality super battery backup super quali...</td>\n",
       "    </tr>\n",
       "  </tbody>\n",
       "</table>\n",
       "</div>"
      ],
      "text/plain": [
       "                                       product_title  \\\n",
       "0  BoAt Rockerz 235v2 with ASAP charging Version ...   \n",
       "1  BoAt Rockerz 235v2 with ASAP charging Version ...   \n",
       "2  BoAt Rockerz 235v2 with ASAP charging Version ...   \n",
       "3  BoAt Rockerz 235v2 with ASAP charging Version ...   \n",
       "4  BoAt Rockerz 235v2 with ASAP charging Version ...   \n",
       "\n",
       "                                              review  \n",
       "0  1-more flexible2-bass is very high3-sound clar...  \n",
       "1     Super sound and good looking I like that prize  \n",
       "2  Very much satisfied with the device at this pr...  \n",
       "3  Nice headphone, bass was very good and sound i...  \n",
       "4  Sound quality super battery backup super quali...  "
      ]
     },
     "execution_count": 20,
     "metadata": {},
     "output_type": "execute_result"
    }
   ],
   "source": [
    "data = data[[\"product_title\",\"review\"]]\n",
    "data.head()"
   ]
  },
  {
   "cell_type": "code",
   "execution_count": 22,
   "id": "13b525ad-a16e-4293-9a51-22bbfbc6427f",
   "metadata": {},
   "outputs": [],
   "source": [
    "product_list = []\n",
    "\n",
    "# Iterate over the rows in the dataframe\n",
    "\n",
    "for index, rows in data.iterrows():\n",
    "    object = {\n",
    "        \"product_name\" : rows[\"product_title\"],\n",
    "        \"review\" : rows[\"review\"]\n",
    "    }\n",
    "\n",
    "# Apend the object to product list\n",
    "    product_list.append(object)"
   ]
  },
  {
   "cell_type": "code",
   "execution_count": 32,
   "id": "a3f5f008-6af8-4dc3-abba-e60b137a8f8c",
   "metadata": {},
   "outputs": [
    {
     "data": {
      "text/plain": [
       "{'product_name': 'BoAt Rockerz 235v2 with ASAP charging Version 5.0 Bluetooth Headset',\n",
       " 'review': \"1-more flexible2-bass is very high3-sound clarity is good 4-battery back up to 6 to 8 hour's 5-main thing is fastest charging system is available in that. Only 20 min charge and get long up to 4 hours back up 6-killing look awesome 7-for gaming that product does not support 100% if you want for gaming then I'll recommend you please don't buy but you want for only music then this product is very well for you.. 8-no more wireless headphones are comparing with that headphones at this pric...\"}"
      ]
     },
     "execution_count": 32,
     "metadata": {},
     "output_type": "execute_result"
    }
   ],
   "source": [
    "product_list[0]\n"
   ]
  },
  {
   "cell_type": "code",
   "execution_count": 34,
   "id": "b491eb72-7376-449a-a457-5a063c248a48",
   "metadata": {},
   "outputs": [],
   "source": [
    "from langchain_core.documents import Document"
   ]
  },
  {
   "cell_type": "code",
   "execution_count": 38,
   "id": "0cb40198-7f0f-4ef3-947a-bf734a9be219",
   "metadata": {},
   "outputs": [],
   "source": [
    "docs = []\n",
    "for object in product_list:\n",
    "    metadata = {\"product_name\":object[\"product_name\"]}\n",
    "    page_content = object[\"review\"]\n",
    "\n",
    "    doc = Document(page_content = page_content, metadata = metadata)\n",
    "\n",
    "    docs.append(doc)"
   ]
  },
  {
   "cell_type": "code",
   "execution_count": 40,
   "id": "3b4760fe-6bcc-442b-8b48-39e775baa72f",
   "metadata": {},
   "outputs": [
    {
     "data": {
      "text/plain": [
       "Document(metadata={'product_name': 'BoAt Rockerz 235v2 with ASAP charging Version 5.0 Bluetooth Headset'}, page_content=\"1-more flexible2-bass is very high3-sound clarity is good 4-battery back up to 6 to 8 hour's 5-main thing is fastest charging system is available in that. Only 20 min charge and get long up to 4 hours back up 6-killing look awesome 7-for gaming that product does not support 100% if you want for gaming then I'll recommend you please don't buy but you want for only music then this product is very well for you.. 8-no more wireless headphones are comparing with that headphones at this pric...\")"
      ]
     },
     "execution_count": 40,
     "metadata": {},
     "output_type": "execute_result"
    }
   ],
   "source": [
    "docs[0]"
   ]
  },
  {
   "cell_type": "code",
   "execution_count": 50,
   "id": "49fb5226-14a2-44d1-963d-d21cd952c9a8",
   "metadata": {},
   "outputs": [
    {
     "data": {
      "text/plain": [
       "450"
      ]
     },
     "execution_count": 50,
     "metadata": {},
     "output_type": "execute_result"
    }
   ],
   "source": [
    "len(docs)"
   ]
  },
  {
   "cell_type": "code",
   "execution_count": 162,
   "id": "909e25fc-af9c-4dd1-84b7-c031cfc8692a",
   "metadata": {},
   "outputs": [],
   "source": [
    "GROQ_API = \"...\"\n",
    "ASTRA_DB_API_ENDPOINT = \"...\"\n",
    "ASTRA_DB_APPLICATION_TOKEN = \"...\"\n",
    "ASTRA_DB_KEYSPACE = \"...\"\n",
    "HF_TOKEN = \"...\""
   ]
  },
  {
   "cell_type": "code",
   "execution_count": 36,
   "id": "8935ec9d-6cd7-409d-9205-201c89d16737",
   "metadata": {},
   "outputs": [],
   "source": [
    "from langchain_community.embeddings import HuggingFaceInferenceAPIEmbeddings"
   ]
  },
  {
   "cell_type": "code",
   "execution_count": 38,
   "id": "9e6f7608-0ffe-485b-be78-1486dce01ebe",
   "metadata": {},
   "outputs": [],
   "source": [
    "embeddings = HuggingFaceInferenceAPIEmbeddings(api_key= HF_TOKEN, model_name= \"BAAI/bge-base-en-v1.5\")"
   ]
  },
  {
   "cell_type": "code",
   "execution_count": 40,
   "id": "dd4d341d-e248-4b7b-91db-61b73b178ec1",
   "metadata": {},
   "outputs": [],
   "source": [
    "from langchain_astradb import AstraDBVectorStore"
   ]
  },
  {
   "cell_type": "code",
   "execution_count": 42,
   "id": "cc12e8fc-aaa9-42d7-9d04-35ee91b3891a",
   "metadata": {},
   "outputs": [],
   "source": [
    "vstore = AstraDBVectorStore(\n",
    "    embedding = embeddings,\n",
    "    collection_name = \"flipkart\",\n",
    "    api_endpoint = ASTRA_DB_API_ENDPOINT,\n",
    "    token = ASTRA_DB_APPLICATION_TOKEN,\n",
    "    namespace = ASTRA_DB_KEYSPACE\n",
    ")"
   ]
  },
  {
   "cell_type": "code",
   "execution_count": 88,
   "id": "b06eda5a-03a5-4c9d-82ba-0aa69d552879",
   "metadata": {},
   "outputs": [],
   "source": [
    "insert_ids = vstore.add_documents(docs)"
   ]
  },
  {
   "cell_type": "code",
   "execution_count": 46,
   "id": "34030475-e2d0-4c3f-be3e-f47ad57576fa",
   "metadata": {},
   "outputs": [
    {
     "name": "stdout",
     "output_type": "stream",
     "text": [
      "Collecting langchain-groq\n",
      "  Downloading langchain_groq-0.3.2-py3-none-any.whl.metadata (2.6 kB)\n",
      "Requirement already satisfied: langchain-core<1.0.0,>=0.3.49 in /opt/anaconda3/lib/python3.12/site-packages (from langchain-groq) (0.3.49)\n",
      "Collecting groq<1,>=0.4.1 (from langchain-groq)\n",
      "  Downloading groq-0.22.0-py3-none-any.whl.metadata (15 kB)\n",
      "Requirement already satisfied: anyio<5,>=3.5.0 in /opt/anaconda3/lib/python3.12/site-packages (from groq<1,>=0.4.1->langchain-groq) (4.2.0)\n",
      "Requirement already satisfied: distro<2,>=1.7.0 in /opt/anaconda3/lib/python3.12/site-packages (from groq<1,>=0.4.1->langchain-groq) (1.9.0)\n",
      "Requirement already satisfied: httpx<1,>=0.23.0 in /opt/anaconda3/lib/python3.12/site-packages (from groq<1,>=0.4.1->langchain-groq) (0.27.0)\n",
      "Requirement already satisfied: pydantic<3,>=1.9.0 in /opt/anaconda3/lib/python3.12/site-packages (from groq<1,>=0.4.1->langchain-groq) (2.8.2)\n",
      "Requirement already satisfied: sniffio in /opt/anaconda3/lib/python3.12/site-packages (from groq<1,>=0.4.1->langchain-groq) (1.3.0)\n",
      "Requirement already satisfied: typing-extensions<5,>=4.10 in /opt/anaconda3/lib/python3.12/site-packages (from groq<1,>=0.4.1->langchain-groq) (4.11.0)\n",
      "Requirement already satisfied: langsmith<0.4,>=0.1.125 in /opt/anaconda3/lib/python3.12/site-packages (from langchain-core<1.0.0,>=0.3.49->langchain-groq) (0.3.19)\n",
      "Requirement already satisfied: tenacity!=8.4.0,<10.0.0,>=8.1.0 in /opt/anaconda3/lib/python3.12/site-packages (from langchain-core<1.0.0,>=0.3.49->langchain-groq) (8.2.3)\n",
      "Requirement already satisfied: jsonpatch<2.0,>=1.33 in /opt/anaconda3/lib/python3.12/site-packages (from langchain-core<1.0.0,>=0.3.49->langchain-groq) (1.33)\n",
      "Requirement already satisfied: PyYAML>=5.3 in /opt/anaconda3/lib/python3.12/site-packages (from langchain-core<1.0.0,>=0.3.49->langchain-groq) (6.0.1)\n",
      "Requirement already satisfied: packaging<25,>=23.2 in /opt/anaconda3/lib/python3.12/site-packages (from langchain-core<1.0.0,>=0.3.49->langchain-groq) (24.1)\n",
      "Requirement already satisfied: idna>=2.8 in /opt/anaconda3/lib/python3.12/site-packages (from anyio<5,>=3.5.0->groq<1,>=0.4.1->langchain-groq) (3.7)\n",
      "Requirement already satisfied: certifi in /opt/anaconda3/lib/python3.12/site-packages (from httpx<1,>=0.23.0->groq<1,>=0.4.1->langchain-groq) (2025.1.31)\n",
      "Requirement already satisfied: httpcore==1.* in /opt/anaconda3/lib/python3.12/site-packages (from httpx<1,>=0.23.0->groq<1,>=0.4.1->langchain-groq) (1.0.2)\n",
      "Requirement already satisfied: h11<0.15,>=0.13 in /opt/anaconda3/lib/python3.12/site-packages (from httpcore==1.*->httpx<1,>=0.23.0->groq<1,>=0.4.1->langchain-groq) (0.14.0)\n",
      "Requirement already satisfied: jsonpointer>=1.9 in /opt/anaconda3/lib/python3.12/site-packages (from jsonpatch<2.0,>=1.33->langchain-core<1.0.0,>=0.3.49->langchain-groq) (2.1)\n",
      "Requirement already satisfied: orjson<4.0.0,>=3.9.14 in /opt/anaconda3/lib/python3.12/site-packages (from langsmith<0.4,>=0.1.125->langchain-core<1.0.0,>=0.3.49->langchain-groq) (3.10.16)\n",
      "Requirement already satisfied: requests<3,>=2 in /opt/anaconda3/lib/python3.12/site-packages (from langsmith<0.4,>=0.1.125->langchain-core<1.0.0,>=0.3.49->langchain-groq) (2.32.3)\n",
      "Requirement already satisfied: requests-toolbelt<2.0.0,>=1.0.0 in /opt/anaconda3/lib/python3.12/site-packages (from langsmith<0.4,>=0.1.125->langchain-core<1.0.0,>=0.3.49->langchain-groq) (1.0.0)\n",
      "Requirement already satisfied: zstandard<0.24.0,>=0.23.0 in /opt/anaconda3/lib/python3.12/site-packages (from langsmith<0.4,>=0.1.125->langchain-core<1.0.0,>=0.3.49->langchain-groq) (0.23.0)\n",
      "Requirement already satisfied: annotated-types>=0.4.0 in /opt/anaconda3/lib/python3.12/site-packages (from pydantic<3,>=1.9.0->groq<1,>=0.4.1->langchain-groq) (0.6.0)\n",
      "Requirement already satisfied: pydantic-core==2.20.1 in /opt/anaconda3/lib/python3.12/site-packages (from pydantic<3,>=1.9.0->groq<1,>=0.4.1->langchain-groq) (2.20.1)\n",
      "Requirement already satisfied: charset-normalizer<4,>=2 in /opt/anaconda3/lib/python3.12/site-packages (from requests<3,>=2->langsmith<0.4,>=0.1.125->langchain-core<1.0.0,>=0.3.49->langchain-groq) (3.3.2)\n",
      "Requirement already satisfied: urllib3<3,>=1.21.1 in /opt/anaconda3/lib/python3.12/site-packages (from requests<3,>=2->langsmith<0.4,>=0.1.125->langchain-core<1.0.0,>=0.3.49->langchain-groq) (2.2.3)\n",
      "Downloading langchain_groq-0.3.2-py3-none-any.whl (15 kB)\n",
      "Downloading groq-0.22.0-py3-none-any.whl (126 kB)\n",
      "Installing collected packages: groq, langchain-groq\n",
      "Successfully installed groq-0.22.0 langchain-groq-0.3.2\n",
      "Note: you may need to restart the kernel to use updated packages.\n"
     ]
    }
   ],
   "source": [
    "pip install langchain-groq"
   ]
  },
  {
   "cell_type": "code",
   "execution_count": 48,
   "id": "82bdd6d4-14f0-444e-8443-5beabb0ef1ad",
   "metadata": {},
   "outputs": [],
   "source": [
    "from langchain_groq import ChatGroq\n"
   ]
  },
  {
   "cell_type": "code",
   "execution_count": 114,
   "id": "cdb3e2fe-294c-4bf6-bda0-5351a47d48bb",
   "metadata": {},
   "outputs": [],
   "source": [
    "model = ChatGroq(groq_api_key = GROQ_API, model=\"llama-3.3-70b-versatile\", temperature=0.5)"
   ]
  },
  {
   "cell_type": "code",
   "execution_count": 116,
   "id": "b7c2e0ba-1a33-4ef1-9da1-545caa2a4d7e",
   "metadata": {},
   "outputs": [],
   "source": [
    "from langchain.chains import create_retrieval_chain\n",
    "from langchain.chains.combine_documents import create_stuff_documents_chain\n",
    "from langchain_core.prompts import MessagesPlaceholder\n",
    "from langchain.chains import create_history_aware_retriever"
   ]
  },
  {
   "cell_type": "code",
   "execution_count": 118,
   "id": "012e19b1-ce03-4250-a5f0-f99e87029bf1",
   "metadata": {},
   "outputs": [],
   "source": [
    "retriever_prompt = (\"Given a chat history and the latest user question which might reference context in the chat history,\"\n",
    "    \"formulate a standalone question which can be understood without the chat history.\"\n",
    "    \"Do NOT answer the question, just reformulate it if needed and otherwise return it as is.\"\n",
    "    )"
   ]
  },
  {
   "cell_type": "code",
   "execution_count": 120,
   "id": "900480cb-a994-4263-8b26-790bed254210",
   "metadata": {},
   "outputs": [],
   "source": [
    "retriever = vstore.as_retriever(search_kwargs={\"k\": 3})"
   ]
  },
  {
   "cell_type": "code",
   "execution_count": 122,
   "id": "992d5bdd-b44c-4327-b2c7-d1159d463a3b",
   "metadata": {},
   "outputs": [],
   "source": [
    "from langchain_core.prompts import ChatPromptTemplate"
   ]
  },
  {
   "cell_type": "code",
   "execution_count": 124,
   "id": "4c36df96-57c1-403a-a0c1-4afc31db2c1c",
   "metadata": {},
   "outputs": [],
   "source": [
    "contextualize_q_prompt = ChatPromptTemplate.from_messages(\n",
    "    [\n",
    "    (\"system\", retriever_prompt),\n",
    "    MessagesPlaceholder(variable_name=\"chat_history\"),\n",
    "    (\"human\", \"{input}\"),\n",
    "    ]\n",
    ")"
   ]
  },
  {
   "cell_type": "code",
   "execution_count": 126,
   "id": "81717caf-88b2-4bea-886e-30cdd10e63a7",
   "metadata": {},
   "outputs": [],
   "source": [
    "history_aware_retriever = create_history_aware_retriever(model, retriever, contextualize_q_prompt)"
   ]
  },
  {
   "cell_type": "code",
   "execution_count": 128,
   "id": "3d3af284-a83e-488e-b578-17e1eb3a81e5",
   "metadata": {},
   "outputs": [],
   "source": [
    "PRODUCT_BOT_TEMPLATE = \"\"\"\n",
    "    Your ecommercebot bot is an expert in product recommendations and customer queries.\n",
    "    It analyzes product titles and reviews to provide accurate and helpful responses.\n",
    "    Ensure your answers are relevant to the product context and refrain from straying off-topic.\n",
    "    Your responses should be concise and informative.\n",
    "\n",
    "    CONTEXT:\n",
    "    {context}\n",
    "\n",
    "    QUESTION: {input}\n",
    "\n",
    "    YOUR ANSWER:\n",
    "\n",
    "    \"\"\""
   ]
  },
  {
   "cell_type": "code",
   "execution_count": 130,
   "id": "031db56d-222b-48c6-bbfc-8fc528d4b1c0",
   "metadata": {},
   "outputs": [],
   "source": [
    "qa_prompt = ChatPromptTemplate.from_messages(\n",
    "    [\n",
    "        (\"system\", PRODUCT_BOT_TEMPLATE),\n",
    "        MessagesPlaceholder(variable_name=\"chat_history\"),\n",
    "        (\"human\", \"{input}\")\n",
    "    ]\n",
    ")"
   ]
  },
  {
   "cell_type": "code",
   "execution_count": 132,
   "id": "a3a979a3-9e48-4d18-9fb0-8cbd07706883",
   "metadata": {},
   "outputs": [],
   "source": [
    "question_answer_chain = create_stuff_documents_chain(model, qa_prompt)"
   ]
  },
  {
   "cell_type": "code",
   "execution_count": 134,
   "id": "df0b1c3c-ebd4-487d-b287-9b787840c833",
   "metadata": {},
   "outputs": [],
   "source": [
    "chain = create_retrieval_chain(history_aware_retriever, question_answer_chain)"
   ]
  },
  {
   "cell_type": "code",
   "execution_count": 136,
   "id": "bfb9f234-ed4d-4bee-bc13-b3b37b169d6c",
   "metadata": {},
   "outputs": [],
   "source": [
    "chat_history = []"
   ]
  },
  {
   "cell_type": "code",
   "execution_count": 138,
   "id": "72c8a46d-8b16-47b2-8cdd-fce29a485575",
   "metadata": {},
   "outputs": [],
   "source": [
    "from langchain_community.chat_message_histories import ChatMessageHistory\n",
    "from langchain_core.chat_history import BaseChatMessageHistory\n",
    "from langchain_core.runnables.history import RunnableWithMessageHistory"
   ]
  },
  {
   "cell_type": "code",
   "execution_count": 140,
   "id": "f57586bf-798a-4589-8a3f-13b8ac2edae6",
   "metadata": {},
   "outputs": [],
   "source": [
    "store = {}"
   ]
  },
  {
   "cell_type": "code",
   "execution_count": 142,
   "id": "e4962752-1709-45d0-8840-ad2a3672d798",
   "metadata": {},
   "outputs": [],
   "source": [
    "def get_session_history(session_id: str)-> BaseChatMessageHistory:\n",
    "  if session_id not in store:\n",
    "    store[session_id]= ChatMessageHistory()\n",
    "  return store[session_id]"
   ]
  },
  {
   "cell_type": "code",
   "execution_count": 152,
   "id": "bde32e86-e7fc-4272-be27-a03935313ea1",
   "metadata": {},
   "outputs": [],
   "source": [
    "chain_with_memory = RunnableWithMessageHistory(\n",
    "    chain,\n",
    "    get_session_history,\n",
    "    input_messages_key = \"input\",\n",
    "    history_messages_key = \"chat_history\",\n",
    "    output_messages_key = \"answer\",\n",
    ")"
   ]
  },
  {
   "cell_type": "code",
   "execution_count": 160,
   "id": "690d62da-d52d-4126-8362-def4a621fc89",
   "metadata": {},
   "outputs": [
    {
     "data": {
      "text/plain": [
       "'Based on the reviews, two good options for Bluetooth earphones are: \\n\\n1. One Plus Bluetooth earphones, known for their superb sound quality, good bass, and 15 hours playback.\\n2. Realme Bluetooth headset, praised for its astonishing bass, smooth design, and 10 hours battery life.\\n\\nBoth options seem to offer good sound quality and build quality, making them worth considering.'"
      ]
     },
     "execution_count": 160,
     "metadata": {},
     "output_type": "execute_result"
    }
   ],
   "source": [
    "\n",
    "chain_with_memory.invoke(\n",
    "    {\"input\" : \"What are the best bluetooth earphones\"},\n",
    "    config = {\n",
    "    \"configurable\" : {\"session_id\" : \"abhi14\"}\n",
    "    },\n",
    ")[\"answer\"]"
   ]
  },
  {
   "cell_type": "code",
   "execution_count": 154,
   "id": "d446906e-b381-4d9d-8d88-985835e05cff",
   "metadata": {},
   "outputs": [
    {
     "data": {
      "text/plain": [
       "\"There is no information about a person named Srada in the given context, which is about a product review. The review is about a Boat product and its features, but it doesn't mention anyone named Srada.\""
      ]
     },
     "execution_count": 154,
     "metadata": {},
     "output_type": "execute_result"
    }
   ],
   "source": [
    "chain_with_memory.invoke(\n",
    "    {\"input\" : \"Is srada an amazing person?\"},\n",
    "    config = {\n",
    "    \"configurable\" : {\"session_id\" : \"abhi14\"}\n",
    "    },\n",
    ")[\"answer\"]"
   ]
  },
  {
   "cell_type": "code",
   "execution_count": 156,
   "id": "8535ec53-9952-4bd0-b0cb-05b51c5b7560",
   "metadata": {},
   "outputs": [
    {
     "data": {
      "text/plain": [
       "'The context mentions \"Useful products\" and \"Nice Products\", but it doesn\\'t specify a particular product as the best. To provide a more accurate answer, I would need more information about the type of product you\\'re looking for.'"
      ]
     },
     "execution_count": 156,
     "metadata": {},
     "output_type": "execute_result"
    }
   ],
   "source": [
    "chain_with_memory.invoke(\n",
    "    {\"input\" : \"What's the best product?\"},\n",
    "    config = {\n",
    "    \"configurable\" : {\"session_id\" : \"abhi14\"}\n",
    "    },\n",
    ")[\"answer\"]"
   ]
  },
  {
   "cell_type": "code",
   "execution_count": 158,
   "id": "bc1cf987-558c-4643-8909-4a789baf6123",
   "metadata": {},
   "outputs": [
    {
     "data": {
      "text/plain": [
       "{'abhi14': InMemoryChatMessageHistory(messages=[HumanMessage(content='What are the best bluetooth earphones', additional_kwargs={}, response_metadata={}), AIMessage(content='Based on the reviews, two good options are: \\n\\n1. One Plus Bluetooth earphones, known for their superb sound quality, good bass, and 15 hours playback.\\n2. Realme Bluetooth headset, praised for its astonishing bass, smooth design, and 10 hours battery life. \\n\\nBoth options seem to offer good sound quality and build quality, making them worth considering.', additional_kwargs={}, response_metadata={}), HumanMessage(content='Is srada an amazing person?', additional_kwargs={}, response_metadata={}), AIMessage(content=\"There is no information about a person named Srada in the given context, which is about a product review. The review is about a Boat product and its features, but it doesn't mention anyone named Srada.\", additional_kwargs={}, response_metadata={}), HumanMessage(content=\"What's the best product?\", additional_kwargs={}, response_metadata={}), AIMessage(content='The context mentions \"Useful products\" and \"Nice Products\", but it doesn\\'t specify a particular product as the best. To provide a more accurate answer, I would need more information about the type of product you\\'re looking for.', additional_kwargs={}, response_metadata={})])}"
      ]
     },
     "execution_count": 158,
     "metadata": {},
     "output_type": "execute_result"
    }
   ],
   "source": [
    "store"
   ]
  },
  {
   "cell_type": "code",
   "execution_count": null,
   "id": "3ef693cf-1681-4514-bb27-f84cacda0094",
   "metadata": {},
   "outputs": [],
   "source": []
  }
 ],
 "metadata": {
  "kernelspec": {
   "display_name": "Python [conda env:base] *",
   "language": "python",
   "name": "conda-base-py"
  },
  "language_info": {
   "codemirror_mode": {
    "name": "ipython",
    "version": 3
   },
   "file_extension": ".py",
   "mimetype": "text/x-python",
   "name": "python",
   "nbconvert_exporter": "python",
   "pygments_lexer": "ipython3",
   "version": "3.12.7"
  }
 },
 "nbformat": 4,
 "nbformat_minor": 5
}
